{
 "cells": [
  {
   "cell_type": "code",
   "execution_count": 5,
   "id": "c75261bb-de25-4514-b887-0c777b1a25e0",
   "metadata": {},
   "outputs": [
    {
     "name": "stdout",
     "output_type": "stream",
     "text": [
      "✅ Loaded joined_release_data.tsv: 1,000,000 rows, 21 columns\n",
      "\n",
      "📋 Columns available:\n",
      "['id', 'gid', 'name', 'artist_credit', 'release_group', 'status', 'packaging', 'language', 'script', 'barcode', 'comment', 'edits_pending', 'quality', 'last_updated', 'release_year', 'release_group_gid', 'artist_credit_gid', 'release_group_name', 'artist_credit_name', 'secondary_types', 'is_soundtrack']\n"
     ]
    }
   ],
   "source": [
    "import pandas as pd\n",
    "from pathlib import Path\n",
    "\n",
    "DATA_DIR = Path(r\"D:\\Capstone_Staging\\data\")\n",
    "joined_path = DATA_DIR / \"joined_release_data.tsv\"\n",
    "\n",
    "df = pd.read_csv(joined_path, sep=\"\\t\", low_memory=False)\n",
    "\n",
    "print(f\"✅ Loaded joined_release_data.tsv: {df.shape[0]:,} rows, {df.shape[1]} columns\\n\")\n",
    "print(\"📋 Columns available:\")\n",
    "print(df.columns.tolist())\n"
   ]
  },
  {
   "cell_type": "code",
   "execution_count": 9,
   "id": "144595fd-c252-42db-aad7-d128e6b8f381",
   "metadata": {},
   "outputs": [
    {
     "name": "stdout",
     "output_type": "stream",
     "text": [
      "✅ Loaded joined_release_data.tsv: 1,000,000 rows, 21 columns\n",
      "\n",
      "📋 Actual column names:\n",
      "00: id\n",
      "01: gid\n",
      "02: name\n",
      "03: artist_credit\n",
      "04: release_group\n",
      "05: status\n",
      "06: packaging\n",
      "07: language\n",
      "08: script\n",
      "09: barcode\n",
      "10: comment\n",
      "11: edits_pending\n",
      "12: quality\n",
      "13: last_updated\n",
      "14: release_year\n",
      "15: release_group_gid\n",
      "16: artist_credit_gid\n",
      "17: release_group_name\n",
      "18: artist_credit_name\n",
      "19: secondary_types\n",
      "20: is_soundtrack\n"
     ]
    }
   ],
   "source": [
    "import pandas as pd\n",
    "from pathlib import Path\n",
    "\n",
    "DATA_DIR = Path(r\"D:\\Capstone_Staging\\data\")\n",
    "joined_path = DATA_DIR / \"joined_release_data.tsv\"\n",
    "\n",
    "df = pd.read_csv(joined_path, sep=\"\\t\", low_memory=False)\n",
    "print(f\"✅ Loaded joined_release_data.tsv: {df.shape[0]:,} rows, {df.shape[1]} columns\")\n",
    "\n",
    "print(\"\\n📋 Actual column names:\")\n",
    "for i, c in enumerate(df.columns):\n",
    "    print(f\"{i:02d}: {c}\")\n"
   ]
  },
  {
   "cell_type": "code",
   "execution_count": 11,
   "id": "c3c79baa-277e-4f7a-bbbe-5dbe0225f64d",
   "metadata": {},
   "outputs": [
    {
     "name": "stdout",
     "output_type": "stream",
     "text": [
      "🔎 Columns containing 'soundtrack': ['name', 'comment', 'release_group_name', 'artist_credit_name', 'secondary_types']\n"
     ]
    }
   ],
   "source": [
    "cols_with_soundtrack = []\n",
    "for col in df.columns:\n",
    "    try:\n",
    "        if df[col].astype(str).str.contains(\"soundtrack\", case=False, na=False).any():\n",
    "            cols_with_soundtrack.append(col)\n",
    "    except Exception:\n",
    "        pass\n",
    "\n",
    "print(\"🔎 Columns containing 'soundtrack':\", cols_with_soundtrack)\n"
   ]
  },
  {
   "cell_type": "code",
   "execution_count": null,
   "id": "b0134504-db35-4b26-957e-6ba0f8f9c01d",
   "metadata": {},
   "outputs": [],
   "source": [
    "soundtrack_col = \"release_group_secondary_type_join\"  # replace with whatever your scan finds\n",
    "\n",
    "soundtracks = df[df[soundtrack_col].astype(str).str.contains(\"soundtrack\", case=False, na=False)]\n",
    "print(f\"🎬 Soundtrack rows: {len(soundtracks):,} ({len(soundtracks)/len(df):.2%} of total)\")\n",
    "soundtracks[[\"id\", \"name\", \"artist\", soundtrack_col]].head(10)\n"
   ]
  },
  {
   "cell_type": "code",
   "execution_count": 13,
   "id": "bc2dfe20-9b14-41be-ace8-f8d24bf636f9",
   "metadata": {},
   "outputs": [
    {
     "name": "stdout",
     "output_type": "stream",
     "text": [
      "🎬 Soundtrack rows: 20,260 (2.03% of total)\n"
     ]
    },
    {
     "data": {
      "text/html": [
       "<div>\n",
       "<style scoped>\n",
       "    .dataframe tbody tr th:only-of-type {\n",
       "        vertical-align: middle;\n",
       "    }\n",
       "\n",
       "    .dataframe tbody tr th {\n",
       "        vertical-align: top;\n",
       "    }\n",
       "\n",
       "    .dataframe thead th {\n",
       "        text-align: right;\n",
       "    }\n",
       "</style>\n",
       "<table border=\"1\" class=\"dataframe\">\n",
       "  <thead>\n",
       "    <tr style=\"text-align: right;\">\n",
       "      <th></th>\n",
       "      <th>id</th>\n",
       "      <th>name</th>\n",
       "      <th>release_group_name</th>\n",
       "      <th>artist_credit_name</th>\n",
       "      <th>comment</th>\n",
       "      <th>secondary_types</th>\n",
       "    </tr>\n",
       "  </thead>\n",
       "  <tbody>\n",
       "    <tr>\n",
       "      <th>85</th>\n",
       "      <td>120</td>\n",
       "      <td>Storytelling</td>\n",
       "      <td>Storytelling</td>\n",
       "      <td>(unknown artist)</td>\n",
       "      <td>NaN</td>\n",
       "      <td>soundtrack</td>\n",
       "    </tr>\n",
       "    <tr>\n",
       "      <th>87</th>\n",
       "      <td>156</td>\n",
       "      <td>Terminator 3: Rise of the Machines</td>\n",
       "      <td>NaN</td>\n",
       "      <td>(unknown artist)</td>\n",
       "      <td>NaN</td>\n",
       "      <td>soundtrack</td>\n",
       "    </tr>\n",
       "    <tr>\n",
       "      <th>102</th>\n",
       "      <td>3079425</td>\n",
       "      <td>The Nevers: Season 1 (Soundtrack from the HBO®...</td>\n",
       "      <td>The Nevers: Season 1 (Soundtrack from the HBO®...</td>\n",
       "      <td>(unknown artist)</td>\n",
       "      <td>NaN</td>\n",
       "      <td>soundtrack</td>\n",
       "    </tr>\n",
       "    <tr>\n",
       "      <th>104</th>\n",
       "      <td>100</td>\n",
       "      <td>Yellow Submarine</td>\n",
       "      <td>NaN</td>\n",
       "      <td>(unknown artist)</td>\n",
       "      <td>mono</td>\n",
       "      <td>soundtrack</td>\n",
       "    </tr>\n",
       "    <tr>\n",
       "      <th>145</th>\n",
       "      <td>1542004</td>\n",
       "      <td>コズミック・ファンタジー3冒険少年レイ SPECIAL EDITION</td>\n",
       "      <td>コズミック・ファンタジー3冒険少年レイ SPECIAL EDITION</td>\n",
       "      <td>(unknown artist)</td>\n",
       "      <td>NaN</td>\n",
       "      <td>soundtrack</td>\n",
       "    </tr>\n",
       "    <tr>\n",
       "      <th>172</th>\n",
       "      <td>2729667</td>\n",
       "      <td>Spellforce 2: Demons of the Past</td>\n",
       "      <td>Spellforce 2: Demons of the Past</td>\n",
       "      <td>(unknown artist)</td>\n",
       "      <td>NaN</td>\n",
       "      <td>soundtrack</td>\n",
       "    </tr>\n",
       "    <tr>\n",
       "      <th>175</th>\n",
       "      <td>270</td>\n",
       "      <td>Magical Mystery Tour</td>\n",
       "      <td>NaN</td>\n",
       "      <td>(unknown artist)</td>\n",
       "      <td>NaN</td>\n",
       "      <td>soundtrack</td>\n",
       "    </tr>\n",
       "    <tr>\n",
       "      <th>199</th>\n",
       "      <td>274</td>\n",
       "      <td>Yellow Submarine</td>\n",
       "      <td>NaN</td>\n",
       "      <td>(unknown artist)</td>\n",
       "      <td>NaN</td>\n",
       "      <td>soundtrack</td>\n",
       "    </tr>\n",
       "    <tr>\n",
       "      <th>277</th>\n",
       "      <td>366</td>\n",
       "      <td>The End Is the Beginning Is the End: The Remixes</td>\n",
       "      <td>The End Is the Beginning Is the End</td>\n",
       "      <td>The Smashing Pumpkins</td>\n",
       "      <td>NaN</td>\n",
       "      <td>soundtrack</td>\n",
       "    </tr>\n",
       "    <tr>\n",
       "      <th>481</th>\n",
       "      <td>1541446</td>\n",
       "      <td>甘城ブリリアントパーク オリジナル・サウンド・トラック</td>\n",
       "      <td>甘城ブリリアントパーク オリジナル・サウンド・トラック</td>\n",
       "      <td>(unknown artist)</td>\n",
       "      <td>24bit/48kHz</td>\n",
       "      <td>soundtrack</td>\n",
       "    </tr>\n",
       "  </tbody>\n",
       "</table>\n",
       "</div>"
      ],
      "text/plain": [
       "          id                                               name  \\\n",
       "85       120                                       Storytelling   \n",
       "87       156                 Terminator 3: Rise of the Machines   \n",
       "102  3079425  The Nevers: Season 1 (Soundtrack from the HBO®...   \n",
       "104      100                                   Yellow Submarine   \n",
       "145  1542004                コズミック・ファンタジー3冒険少年レイ SPECIAL EDITION   \n",
       "172  2729667                   Spellforce 2: Demons of the Past   \n",
       "175      270                               Magical Mystery Tour   \n",
       "199      274                                   Yellow Submarine   \n",
       "277      366   The End Is the Beginning Is the End: The Remixes   \n",
       "481  1541446                        甘城ブリリアントパーク オリジナル・サウンド・トラック   \n",
       "\n",
       "                                    release_group_name     artist_credit_name  \\\n",
       "85                                        Storytelling       (unknown artist)   \n",
       "87                                                 NaN       (unknown artist)   \n",
       "102  The Nevers: Season 1 (Soundtrack from the HBO®...       (unknown artist)   \n",
       "104                                                NaN       (unknown artist)   \n",
       "145                コズミック・ファンタジー3冒険少年レイ SPECIAL EDITION       (unknown artist)   \n",
       "172                   Spellforce 2: Demons of the Past       (unknown artist)   \n",
       "175                                                NaN       (unknown artist)   \n",
       "199                                                NaN       (unknown artist)   \n",
       "277                The End Is the Beginning Is the End  The Smashing Pumpkins   \n",
       "481                        甘城ブリリアントパーク オリジナル・サウンド・トラック       (unknown artist)   \n",
       "\n",
       "         comment secondary_types  \n",
       "85           NaN      soundtrack  \n",
       "87           NaN      soundtrack  \n",
       "102          NaN      soundtrack  \n",
       "104         mono      soundtrack  \n",
       "145          NaN      soundtrack  \n",
       "172          NaN      soundtrack  \n",
       "175          NaN      soundtrack  \n",
       "199          NaN      soundtrack  \n",
       "277          NaN      soundtrack  \n",
       "481  24bit/48kHz      soundtrack  "
      ]
     },
     "execution_count": 13,
     "metadata": {},
     "output_type": "execute_result"
    }
   ],
   "source": [
    "# Select the column that reliably marks soundtrack releases\n",
    "soundtrack_col = \"secondary_types\"\n",
    "\n",
    "# Filter for soundtrack rows\n",
    "soundtracks = df[df[soundtrack_col].astype(str).str.contains(\"soundtrack\", case=False, na=False)]\n",
    "pct = len(soundtracks) / len(df) * 100\n",
    "\n",
    "print(f\"🎬 Soundtrack rows: {len(soundtracks):,} ({pct:.2f}% of total)\")\n",
    "\n",
    "# Quick peek at relevant fields\n",
    "cols_to_show = [c for c in [\"id\", \"name\", \"release_group_name\", \"artist_credit_name\", \"comment\", soundtrack_col] if c in df.columns]\n",
    "soundtracks[cols_to_show].head(10)\n"
   ]
  },
  {
   "cell_type": "code",
   "execution_count": 15,
   "id": "967412a5-0e75-4591-8fc8-6493ad1e84f9",
   "metadata": {},
   "outputs": [
    {
     "name": "stdout",
     "output_type": "stream",
     "text": [
      "name                : nulls=0 | empties=0 | missing=0.0%\n",
      "release_group_name  : nulls=6,894 | empties=0 | missing=34.0%\n",
      "artist_credit_name  : nulls=0 | empties=0 | missing=0.0%\n",
      "comment             : nulls=19,117 | empties=0 | missing=94.4%\n"
     ]
    }
   ],
   "source": [
    "# Check missingness across the key textual columns\n",
    "for col in [\"name\", \"release_group_name\", \"artist_credit_name\", \"comment\"]:\n",
    "    nulls = soundtracks[col].isna().sum()\n",
    "    empties = (soundtracks[col].astype(str).str.strip() == \"\").sum()\n",
    "    print(f\"{col:20s}: nulls={nulls:,} | empties={empties:,} | missing={(nulls+empties)/len(soundtracks):.1%}\")\n"
   ]
  },
  {
   "cell_type": "code",
   "execution_count": 17,
   "id": "2e84a339-e371-4a27-af15-00788911a77d",
   "metadata": {},
   "outputs": [
    {
     "name": "stdout",
     "output_type": "stream",
     "text": [
      "⚠️ (unknown artist) entries: 78.3%\n",
      "\n",
      "🎧 Example known artist names:\n",
      "['D. Imman', 'The Weeknd with Playboi Carti & Madonna', 'Kid Loco', 'Ichiro Shimakura', 'Pablo Vega', 'Shirley Walker', 'Shankar-Ehsaan-Loy', 'Pablo Malaurie', 'Himesh Reshammiya', 'Jakes Bejoy']\n"
     ]
    }
   ],
   "source": [
    "unknown_rate = (soundtracks[\"artist_credit_name\"].str.lower() == \"(unknown artist)\").mean() * 100\n",
    "print(f\"⚠️ (unknown artist) entries: {unknown_rate:.1f}%\")\n",
    "\n",
    "known_artists = soundtracks.loc[\n",
    "    soundtracks[\"artist_credit_name\"].str.lower() != \"(unknown artist)\",\n",
    "    \"artist_credit_name\"\n",
    "]\n",
    "print(\"\\n🎧 Example known artist names:\")\n",
    "print(known_artists.sample(min(10, len(known_artists)), random_state=42).tolist())\n"
   ]
  },
  {
   "cell_type": "code",
   "execution_count": 23,
   "id": "7aec0acc-a79f-44fd-9f38-fbe4b772157e",
   "metadata": {},
   "outputs": [
    {
     "name": "stdout",
     "output_type": "stream",
     "text": [
      "📏 Average title lengths:\n",
      "name_len     24.045114\n",
      "group_len    15.230257\n",
      "dtype: float64\n",
      "\n",
      "🔎 Sample titles:\n",
      "['Wir sind die Nacht', 'New Kids Turbo', 'COWBOY BEBOP: Vitaminless', \"Eve's Bayou\", 'Official Battle Superbreaks: Battle of the Year', 'Loose Change', 'The Beekeeper', 'King’s Ransom', 'Peter Pan: The British Musical (1994 original London Cast)', 'Ergo Proxy Original Soundtrack opus 02']\n"
     ]
    }
   ],
   "source": [
    "soundtracks.loc[:, \"name_len\"] = soundtracks[\"name\"].astype(str).str.len()\n",
    "soundtracks.loc[:, \"group_len\"] = soundtracks[\"release_group_name\"].astype(str).str.len()\n",
    "\n",
    "print(\"📏 Average title lengths:\")\n",
    "print(soundtracks[[\"name_len\", \"group_len\"]].mean())\n",
    "\n",
    "print(\"\\n🔎 Sample titles:\")\n",
    "print(soundtracks[\"name\"].sample(10, random_state=99).tolist())\n"
   ]
  },
  {
   "cell_type": "code",
   "execution_count": 27,
   "id": "ef0da3df-1924-4422-bbad-18027a496827",
   "metadata": {},
   "outputs": [
    {
     "name": "stdout",
     "output_type": "stream",
     "text": [
      "\n",
      "🧩 Example cleaned titles (gentler normalization):\n",
      "                                                  name  \\\n",
      "85                                        Storytelling   \n",
      "87                  Terminator 3: Rise of the Machines   \n",
      "102  The Nevers: Season 1 (Soundtrack from the HBO®...   \n",
      "104                                   Yellow Submarine   \n",
      "145                コズミック・ファンタジー3冒険少年レイ SPECIAL EDITION   \n",
      "172                   Spellforce 2: Demons of the Past   \n",
      "175                               Magical Mystery Tour   \n",
      "199                                   Yellow Submarine   \n",
      "277   The End Is the Beginning Is the End: The Remixes   \n",
      "481                        甘城ブリリアントパーク オリジナル・サウンド・トラック   \n",
      "\n",
      "                                          name_clean  \\\n",
      "85                                      storytelling   \n",
      "87                 terminator 3 rise of the machines   \n",
      "102                              the nevers season 1   \n",
      "104                                 yellow submarine   \n",
      "145              コズミック・ファンタジー3冒険少年レイ special edition   \n",
      "172                  spellforce 2 demons of the past   \n",
      "175                             magical mystery tour   \n",
      "199                                 yellow submarine   \n",
      "277  the end is the beginning is the end the remixes   \n",
      "481                      甘城ブリリアントパーク オリジナル・サウンド・トラック   \n",
      "\n",
      "                             group_clean  \n",
      "85                          storytelling  \n",
      "87                                        \n",
      "102                  the nevers season 1  \n",
      "104                                       \n",
      "145  コズミック・ファンタジー3冒険少年レイ special edition  \n",
      "172      spellforce 2 demons of the past  \n",
      "175                                       \n",
      "199                                       \n",
      "277  the end is the beginning is the end  \n",
      "481          甘城ブリリアントパーク オリジナル・サウンド・トラック  \n"
     ]
    }
   ],
   "source": [
    "import re\n",
    "import unicodedata\n",
    "\n",
    "def normalize_title(s):\n",
    "    \"\"\"\n",
    "    Improved normalization:\n",
    "    - Lowercase\n",
    "    - Keeps Unicode (Japanese, accented Latin)\n",
    "    - Strips brackets, quotes, redundant punctuation\n",
    "    - Preserves key soundtrack words\n",
    "    \"\"\"\n",
    "    if pd.isna(s):\n",
    "        return \"\"\n",
    "    s = str(s).lower()\n",
    "\n",
    "    # Normalize Unicode (preserve accents, kana)\n",
    "    s = unicodedata.normalize(\"NFKC\", s)\n",
    "\n",
    "    # Remove bracketed metadata (e.g., [OST], (Deluxe Edition))\n",
    "    s = re.sub(r'\\[[^\\]]*\\]', '', s)\n",
    "    s = re.sub(r'\\([^)]*\\)', '', s)\n",
    "\n",
    "    # Keep alphanumerics + Unicode letters\n",
    "    s = re.sub(r\"[^0-9\\w\\u3040-\\u30ff\\u3400-\\u4dbf\\u4e00-\\u9fff\\s]\", \" \", s)\n",
    "\n",
    "    # Compress whitespace\n",
    "    s = re.sub(r\"\\s+\", \" \", s).strip()\n",
    "\n",
    "    return s\n",
    "\n",
    "soundtracks.loc[:, \"name_clean\"] = soundtracks[\"name\"].map(normalize_title)\n",
    "soundtracks.loc[:, \"group_clean\"] = soundtracks[\"release_group_name\"].map(normalize_title)\n",
    "\n",
    "print(\"\\n🧩 Example cleaned titles (gentler normalization):\")\n",
    "print(soundtracks[[\"name\", \"name_clean\", \"group_clean\"]].head(10))\n"
   ]
  },
  {
   "cell_type": "code",
   "execution_count": null,
   "id": "ffa2c243-0a6e-48df-a0e9-fe9216ed2de1",
   "metadata": {},
   "outputs": [],
   "source": []
  }
 ],
 "metadata": {
  "kernelspec": {
   "display_name": "Python 3 (ipykernel)",
   "language": "python",
   "name": "python3"
  },
  "language_info": {
   "codemirror_mode": {
    "name": "ipython",
    "version": 3
   },
   "file_extension": ".py",
   "mimetype": "text/x-python",
   "name": "python",
   "nbconvert_exporter": "python",
   "pygments_lexer": "ipython3",
   "version": "3.12.4"
  }
 },
 "nbformat": 4,
 "nbformat_minor": 5
}
