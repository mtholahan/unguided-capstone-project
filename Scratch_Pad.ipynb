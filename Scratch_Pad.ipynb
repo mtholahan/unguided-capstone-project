{
 "cells": [
  {
   "cell_type": "code",
   "execution_count": 3,
   "id": "e1a9af1a-7331-4990-b5d7-8e8b608da4bb",
   "metadata": {},
   "outputs": [
    {
     "name": "stdout",
     "output_type": "stream",
     "text": [
      "['movie_ref', 'discogs_title_norm', 'tmdb_title_norm', 'discogs_year', 'tmdb_year', 'discogs_genre', 'tmdb_genre', 'discogs_style']\n",
      "   movie_ref                                 discogs_title_norm  \\\n",
      "0  Star Wars  john williams the london symphony orchestra st...   \n",
      "1  Star Wars  john williams the london symphony orchestra st...   \n",
      "2  Star Wars  john williams the london symphony orchestra st...   \n",
      "\n",
      "                          tmdb_title_norm discogs_year tmdb_year  \\\n",
      "0                               star wars         1977      1977   \n",
      "1  criaturas de la guerra de las galaxias         1977      2006   \n",
      "2             dans ombre du star wars kid         1977      2022   \n",
      "\n",
      "               discogs_genre tmdb_genre                    discogs_style  \n",
      "0  Classical, Stage & Screen             Soundtrack, Score, Neo-Romantic  \n",
      "1  Classical, Stage & Screen             Soundtrack, Score, Neo-Romantic  \n",
      "2  Classical, Stage & Screen             Soundtrack, Score, Neo-Romantic  \n"
     ]
    }
   ],
   "source": [
    "import pandas as pd\n",
    "df = pd.read_parquet(\"data/intermediate/discogs_tmdb_candidates_extended.parquet\")\n",
    "print(df.columns.tolist())\n",
    "print(df.head(3))\n"
   ]
  },
  {
   "cell_type": "code",
   "execution_count": 5,
   "id": "97f5a6e9-945c-417f-bc7a-bd71225b490a",
   "metadata": {},
   "outputs": [
    {
     "name": "stdout",
     "output_type": "stream",
     "text": [
      "                     movie_ref  \\\n",
      "0   E.T. the Extra-Terrestrial   \n",
      "11          Return of the Jedi   \n",
      "24     The Empire Strikes Back   \n",
      "21     The Empire Strikes Back   \n",
      "19     The Empire Strikes Back   \n",
      "16     The Empire Strikes Back   \n",
      "15                   Star Wars   \n",
      "14                   Star Wars   \n",
      "12                   Star Wars   \n",
      "13                   Star Wars   \n",
      "\n",
      "                                   discogs_title_norm      tmdb_title_norm  \\\n",
      "0                drew barrymore the extra terrestrial    extra terrestrial   \n",
      "11                  unknown artist return of the jedi   return of the jedi   \n",
      "24  london symphony orchestra the story of the emp...  empire strikes back   \n",
      "21  john williams the london symphony orchestra st...  empire strikes back   \n",
      "19   unknown artist star wars the empire strikes back  empire strikes back   \n",
      "16  john williams the london symphony orchestra st...  empire strikes back   \n",
      "15  john williams the london symphony orchestra st...            star wars   \n",
      "14                           unknown artist star wars            star wars   \n",
      "12  john williams the london symphony orchestra st...            star wars   \n",
      "13  original cast with narration by roscoe lee bro...            star wars   \n",
      "\n",
      "   discogs_year tmdb_year                          discogs_genre tmdb_genre  \\\n",
      "0          1983      1982             Children's, Stage & Screen              \n",
      "11         1983      1983             Children's, Stage & Screen              \n",
      "24         1983      1980  Non-Music, Children's, Stage & Screen              \n",
      "21         1980      1980              Classical, Stage & Screen              \n",
      "19         1980      1980             Children's, Stage & Screen              \n",
      "16         1980      1980              Classical, Stage & Screen              \n",
      "15         1977      1977              Classical, Stage & Screen              \n",
      "14         1979      1977             Children's, Stage & Screen              \n",
      "12         1977      1977              Classical, Stage & Screen              \n",
      "13         1977      1977   Non-Music, Classical, Stage & Screen              \n",
      "\n",
      "                                        discogs_style  score  \n",
      "0                                               Story   90.0  \n",
      "11                                              Story   90.0  \n",
      "24                                    Story, Dialogue   90.0  \n",
      "21                           Soundtrack, Contemporary   90.0  \n",
      "19                                              Story   90.0  \n",
      "16                           Soundtrack, Contemporary   90.0  \n",
      "15                                  Soundtrack, Score   90.0  \n",
      "14                                              Story   90.0  \n",
      "12                    Soundtrack, Score, Neo-Romantic   90.0  \n",
      "13  Dialogue, Movie Effects, Audiobook, Modern Cla...   90.0  \n"
     ]
    }
   ],
   "source": [
    "import pandas as pd\n",
    "df = pd.read_parquet(\"data/intermediate/discogs_tmdb_matches.parquet\")\n",
    "print(df.sort_values(\"score\", ascending=False).head(10))\n"
   ]
  },
  {
   "cell_type": "code",
   "execution_count": 7,
   "id": "79643e3b-74e9-4c51-a7dc-1d38d90c805a",
   "metadata": {},
   "outputs": [
    {
     "name": "stdout",
     "output_type": "stream",
     "text": [
      "💍 Top Discogs ↔ TMDB matches:\n"
     ]
    },
    {
     "data": {
      "text/html": [
       "<div>\n",
       "<style scoped>\n",
       "    .dataframe tbody tr th:only-of-type {\n",
       "        vertical-align: middle;\n",
       "    }\n",
       "\n",
       "    .dataframe tbody tr th {\n",
       "        vertical-align: top;\n",
       "    }\n",
       "\n",
       "    .dataframe thead th {\n",
       "        text-align: right;\n",
       "    }\n",
       "</style>\n",
       "<table border=\"1\" class=\"dataframe\">\n",
       "  <thead>\n",
       "    <tr style=\"text-align: right;\">\n",
       "      <th></th>\n",
       "      <th>movie_ref</th>\n",
       "      <th>discogs_title_norm</th>\n",
       "      <th>tmdb_title_norm</th>\n",
       "      <th>discogs_year</th>\n",
       "      <th>tmdb_year</th>\n",
       "      <th>score</th>\n",
       "    </tr>\n",
       "  </thead>\n",
       "  <tbody>\n",
       "    <tr>\n",
       "      <th>0</th>\n",
       "      <td>E.T. the Extra-Terrestrial</td>\n",
       "      <td>drew barrymore the extra terrestrial</td>\n",
       "      <td>extra terrestrial</td>\n",
       "      <td>1983</td>\n",
       "      <td>1982</td>\n",
       "      <td>90.0</td>\n",
       "    </tr>\n",
       "    <tr>\n",
       "      <th>11</th>\n",
       "      <td>Return of the Jedi</td>\n",
       "      <td>unknown artist return of the jedi</td>\n",
       "      <td>return of the jedi</td>\n",
       "      <td>1983</td>\n",
       "      <td>1983</td>\n",
       "      <td>90.0</td>\n",
       "    </tr>\n",
       "    <tr>\n",
       "      <th>24</th>\n",
       "      <td>The Empire Strikes Back</td>\n",
       "      <td>london symphony orchestra the story of the emp...</td>\n",
       "      <td>empire strikes back</td>\n",
       "      <td>1983</td>\n",
       "      <td>1980</td>\n",
       "      <td>90.0</td>\n",
       "    </tr>\n",
       "    <tr>\n",
       "      <th>21</th>\n",
       "      <td>The Empire Strikes Back</td>\n",
       "      <td>john williams the london symphony orchestra st...</td>\n",
       "      <td>empire strikes back</td>\n",
       "      <td>1980</td>\n",
       "      <td>1980</td>\n",
       "      <td>90.0</td>\n",
       "    </tr>\n",
       "    <tr>\n",
       "      <th>19</th>\n",
       "      <td>The Empire Strikes Back</td>\n",
       "      <td>unknown artist star wars the empire strikes back</td>\n",
       "      <td>empire strikes back</td>\n",
       "      <td>1980</td>\n",
       "      <td>1980</td>\n",
       "      <td>90.0</td>\n",
       "    </tr>\n",
       "    <tr>\n",
       "      <th>16</th>\n",
       "      <td>The Empire Strikes Back</td>\n",
       "      <td>john williams the london symphony orchestra st...</td>\n",
       "      <td>empire strikes back</td>\n",
       "      <td>1980</td>\n",
       "      <td>1980</td>\n",
       "      <td>90.0</td>\n",
       "    </tr>\n",
       "    <tr>\n",
       "      <th>15</th>\n",
       "      <td>Star Wars</td>\n",
       "      <td>john williams the london symphony orchestra st...</td>\n",
       "      <td>star wars</td>\n",
       "      <td>1977</td>\n",
       "      <td>1977</td>\n",
       "      <td>90.0</td>\n",
       "    </tr>\n",
       "    <tr>\n",
       "      <th>14</th>\n",
       "      <td>Star Wars</td>\n",
       "      <td>unknown artist star wars</td>\n",
       "      <td>star wars</td>\n",
       "      <td>1979</td>\n",
       "      <td>1977</td>\n",
       "      <td>90.0</td>\n",
       "    </tr>\n",
       "    <tr>\n",
       "      <th>12</th>\n",
       "      <td>Star Wars</td>\n",
       "      <td>john williams the london symphony orchestra st...</td>\n",
       "      <td>star wars</td>\n",
       "      <td>1977</td>\n",
       "      <td>1977</td>\n",
       "      <td>90.0</td>\n",
       "    </tr>\n",
       "    <tr>\n",
       "      <th>13</th>\n",
       "      <td>Star Wars</td>\n",
       "      <td>original cast with narration by roscoe lee bro...</td>\n",
       "      <td>star wars</td>\n",
       "      <td>1977</td>\n",
       "      <td>1977</td>\n",
       "      <td>90.0</td>\n",
       "    </tr>\n",
       "  </tbody>\n",
       "</table>\n",
       "</div>"
      ],
      "text/plain": [
       "                     movie_ref  \\\n",
       "0   E.T. the Extra-Terrestrial   \n",
       "11          Return of the Jedi   \n",
       "24     The Empire Strikes Back   \n",
       "21     The Empire Strikes Back   \n",
       "19     The Empire Strikes Back   \n",
       "16     The Empire Strikes Back   \n",
       "15                   Star Wars   \n",
       "14                   Star Wars   \n",
       "12                   Star Wars   \n",
       "13                   Star Wars   \n",
       "\n",
       "                                   discogs_title_norm      tmdb_title_norm  \\\n",
       "0                drew barrymore the extra terrestrial    extra terrestrial   \n",
       "11                  unknown artist return of the jedi   return of the jedi   \n",
       "24  london symphony orchestra the story of the emp...  empire strikes back   \n",
       "21  john williams the london symphony orchestra st...  empire strikes back   \n",
       "19   unknown artist star wars the empire strikes back  empire strikes back   \n",
       "16  john williams the london symphony orchestra st...  empire strikes back   \n",
       "15  john williams the london symphony orchestra st...            star wars   \n",
       "14                           unknown artist star wars            star wars   \n",
       "12  john williams the london symphony orchestra st...            star wars   \n",
       "13  original cast with narration by roscoe lee bro...            star wars   \n",
       "\n",
       "   discogs_year tmdb_year  score  \n",
       "0          1983      1982   90.0  \n",
       "11         1983      1983   90.0  \n",
       "24         1983      1980   90.0  \n",
       "21         1980      1980   90.0  \n",
       "19         1980      1980   90.0  \n",
       "16         1980      1980   90.0  \n",
       "15         1977      1977   90.0  \n",
       "14         1979      1977   90.0  \n",
       "12         1977      1977   90.0  \n",
       "13         1977      1977   90.0  "
      ]
     },
     "metadata": {},
     "output_type": "display_data"
    }
   ],
   "source": [
    "import pandas as pd\n",
    "\n",
    "df = pd.read_parquet(\"data/intermediate/discogs_tmdb_matches.parquet\")\n",
    "\n",
    "top_pairs = (\n",
    "    df.sort_values(\"score\", ascending=False)\n",
    "      .loc[:, [\"movie_ref\", \"discogs_title_norm\", \"tmdb_title_norm\",\n",
    "               \"discogs_year\", \"tmdb_year\", \"score\"]]\n",
    ")\n",
    "\n",
    "print(\"💍 Top Discogs ↔ TMDB matches:\")\n",
    "display(top_pairs.head(10))\n"
   ]
  },
  {
   "cell_type": "code",
   "execution_count": 9,
   "id": "9785e4be-65d6-4148-b678-2b4dadb98938",
   "metadata": {},
   "outputs": [
    {
     "data": {
      "text/html": [
       "<div>\n",
       "<style scoped>\n",
       "    .dataframe tbody tr th:only-of-type {\n",
       "        vertical-align: middle;\n",
       "    }\n",
       "\n",
       "    .dataframe tbody tr th {\n",
       "        vertical-align: top;\n",
       "    }\n",
       "\n",
       "    .dataframe thead th {\n",
       "        text-align: right;\n",
       "    }\n",
       "</style>\n",
       "<table border=\"1\" class=\"dataframe\">\n",
       "  <thead>\n",
       "    <tr style=\"text-align: right;\">\n",
       "      <th></th>\n",
       "      <th>score_bin</th>\n",
       "      <th>matches</th>\n",
       "    </tr>\n",
       "  </thead>\n",
       "  <tbody>\n",
       "    <tr>\n",
       "      <th>0</th>\n",
       "      <td>80.0</td>\n",
       "      <td>14</td>\n",
       "    </tr>\n",
       "    <tr>\n",
       "      <th>1</th>\n",
       "      <td>90.0</td>\n",
       "      <td>13</td>\n",
       "    </tr>\n",
       "  </tbody>\n",
       "</table>\n",
       "</div>"
      ],
      "text/plain": [
       "   score_bin  matches\n",
       "0       80.0       14\n",
       "1       90.0       13"
      ]
     },
     "metadata": {},
     "output_type": "display_data"
    },
    {
     "name": "stdout",
     "output_type": "stream",
     "text": [
      "Mean fuzzy score: 87.67\n",
      "Median fuzzy score: 85.5\n"
     ]
    }
   ],
   "source": [
    "df[\"score_bin\"] = (df[\"score\"] // 10) * 10\n",
    "score_summary = (\n",
    "    df.groupby(\"score_bin\")\n",
    "      .agg(matches=(\"score\", \"count\"))\n",
    "      .reset_index()\n",
    ")\n",
    "display(score_summary)\n",
    "print(\"Mean fuzzy score:\", round(df[\"score\"].mean(), 2))\n",
    "print(\"Median fuzzy score:\", round(df[\"score\"].median(), 2))\n"
   ]
  },
  {
   "cell_type": "code",
   "execution_count": 19,
   "id": "812cb8a4-ea7e-4fc2-ad84-aeaab8da7243",
   "metadata": {},
   "outputs": [
    {
     "name": "stdout",
     "output_type": "stream",
     "text": [
      "count    22.000000\n",
      "mean      0.545455\n",
      "std       1.100964\n",
      "min       0.000000\n",
      "25%       0.000000\n",
      "50%       0.000000\n",
      "75%       0.000000\n",
      "max       3.000000\n",
      "Name: year_gap, dtype: float64\n",
      "                  movie_ref  discogs_year  tmdb_year  score\n",
      "24  The Empire Strikes Back          1983     1980.0   90.0\n",
      "25  The Empire Strikes Back          1983     1980.0   85.5\n",
      "26  The Empire Strikes Back          1983     1980.0   85.5\n"
     ]
    }
   ],
   "source": [
    "import pandas as pd\n",
    "\n",
    "# Safely coerce year columns to numeric\n",
    "df[\"discogs_year\"] = pd.to_numeric(df[\"discogs_year\"], errors=\"coerce\")\n",
    "df[\"tmdb_year\"]    = pd.to_numeric(df[\"tmdb_year\"], errors=\"coerce\")\n",
    "\n",
    "# Compute absolute year gap\n",
    "df[\"year_gap\"] = (df[\"discogs_year\"] - df[\"tmdb_year\"]).abs()\n",
    "\n",
    "# Inspect summary\n",
    "print(df[\"year_gap\"].describe())\n",
    "\n",
    "# Show potential mismatches\n",
    "print(df[df[\"year_gap\"] > 2][[\"movie_ref\", \"discogs_year\", \"tmdb_year\", \"score\"]])\n"
   ]
  },
  {
   "cell_type": "code",
   "execution_count": 13,
   "id": "1a076b28-757a-44fa-b5a2-80f398c14d5b",
   "metadata": {},
   "outputs": [
    {
     "name": "stdout",
     "output_type": "stream",
     "text": [
      "Soundtrack-tag alignment rate: 0.0\n"
     ]
    }
   ],
   "source": [
    "genre_check = (\n",
    "    df.assign(match_genre=lambda x:\n",
    "              x[\"discogs_genre\"].str.contains(\"Soundtrack\", case=False)\n",
    "              & x[\"tmdb_genre\"].str.contains(\"Soundtrack\", case=False))\n",
    ")\n",
    "print(\"Soundtrack-tag alignment rate:\",\n",
    "      genre_check[\"match_genre\"].mean().round(2))\n"
   ]
  },
  {
   "cell_type": "code",
   "execution_count": 15,
   "id": "78a8a675-d8fd-43cb-bbef-591e8d527b10",
   "metadata": {},
   "outputs": [
    {
     "name": "stdout",
     "output_type": "stream",
     "text": [
      "❤️  13 / 27 matches ≥ 90 (48.1%)\n",
      "🎬  5 unique titles linked across Discogs + TMDB\n"
     ]
    }
   ],
   "source": [
    "total_titles = df[\"movie_ref\"].nunique()\n",
    "strong = (df[\"score\"] >= 90).sum()\n",
    "print(f\"❤️  {strong} / {len(df)} matches ≥ 90 ({strong/len(df):.1%})\")\n",
    "print(f\"🎬  {total_titles} unique titles linked across Discogs + TMDB\")\n"
   ]
  },
  {
   "cell_type": "code",
   "execution_count": 21,
   "id": "1c73b186-b3a8-4213-bb48-ca89a0f39287",
   "metadata": {},
   "outputs": [
    {
     "data": {
      "image/png": "[encoded data removed]",
      "text/plain": [
       "<Figure size 800x500 with 1 Axes>"
      ]
     },
     "metadata": {},
     "output_type": "display_data"
    },
    {
     "data": {
      "image/png": "[encoded data removed]",
      "text/plain": [
       "<Figure size 800x500 with 1 Axes>"
      ]
     },
     "metadata": {},
     "output_type": "display_data"
    }
   ],
   "source": [
    "# --- Step 04 Visualization: Fuzzy Match Quality ---\n",
    "import pandas as pd\n",
    "import matplotlib.pyplot as plt\n",
    "\n",
    "# Load the Step 04 matches parquet\n",
    "df = pd.read_parquet(\"data/intermediate/discogs_tmdb_matches.parquet\")\n",
    "\n",
    "# Coerce years safely\n",
    "df[\"discogs_year\"] = pd.to_numeric(df[\"discogs_year\"], errors=\"coerce\")\n",
    "df[\"tmdb_year\"]    = pd.to_numeric(df[\"tmdb_year\"], errors=\"coerce\")\n",
    "df[\"year_gap\"]     = (df[\"discogs_year\"] - df[\"tmdb_year\"]).abs()\n",
    "\n",
    "# --- Histogram of fuzzy match scores ---\n",
    "plt.figure(figsize=(8, 5))\n",
    "plt.hist(df[\"score\"], bins=10, edgecolor=\"black\", alpha=0.8)\n",
    "plt.title(\"Distribution of Fuzzy Match Scores (Discogs ↔ TMDB)\")\n",
    "plt.xlabel(\"Fuzzy Score\")\n",
    "plt.ylabel(\"Number of Matches\")\n",
    "plt.grid(axis=\"y\", linestyle=\"--\", alpha=0.7)\n",
    "plt.show()\n",
    "\n",
    "# --- Scatter plot of year gap vs fuzzy score ---\n",
    "plt.figure(figsize=(8, 5))\n",
    "plt.scatter(df[\"year_gap\"], df[\"score\"], alpha=0.7)\n",
    "plt.title(\"Match Quality vs Year Gap (Discogs ↔ TMDB)\")\n",
    "plt.xlabel(\"Year Gap (|Discogs - TMDB|)\")\n",
    "plt.ylabel(\"Fuzzy Score\")\n",
    "plt.grid(True, linestyle=\"--\", alpha=0.7)\n",
    "plt.show()\n"
   ]
  },
  {
   "cell_type": "code",
   "execution_count": null,
   "id": "a7089795-f451-4e25-8a13-85344b02b564",
   "metadata": {},
   "outputs": [],
   "source": []
  }
 ],
 "metadata": {
  "kernelspec": {
   "display_name": "Python 3 (ipykernel)",
   "language": "python",
   "name": "python3"
  },
  "language_info": {
   "codemirror_mode": {
    "name": "ipython",
    "version": 3
   },
   "file_extension": ".py",
   "mimetype": "text/x-python",
   "name": "python",
   "nbconvert_exporter": "python",
   "pygments_lexer": "ipython3",
   "version": "3.12.4"
  }
 },
 "nbformat": 4,
 "nbformat_minor": 5
}
