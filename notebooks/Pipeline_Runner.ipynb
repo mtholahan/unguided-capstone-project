{
 "cells": [
  {
   "cell_type": "code",
   "execution_count": 0,
   "metadata": {
    "application/vnd.databricks.v1+cell": {
     "cellMetadata": {
      "byteLimit": 2048000,
      "rowLimit": 10000
     },
     "inputWidgets": {},
     "nuid": "f96af870-887b-41f7-a0f3-32b5e3176305",
     "showTitle": false,
     "tableResultSettingsMap": {},
     "title": ""
    }
   },
   "outputs": [],
   "source": [
    "from scripts_spark.extract_spark_tmdb import ExtractSparkTMDB\n",
    "from pyspark.sql import SparkSession\n",
    "\n",
    "# 1️⃣ Cleanly retrieve and trim your ADLS key\n",
    "adls_key = dbutils.secrets.get(\"markscope\", \"azure-storage-account-key\").strip()\n",
    "\n",
    "# 2️⃣ Configure Spark with the CORRECT account name\n",
    "spark = (\n",
    "    SparkSession.builder.appName(\"ExtractSparkTMDBNotebook\")\n",
    "    .config(\"fs.azure.account.key.ungcapstor01.dfs.core.windows.net\", adls_key)\n",
    "    .getOrCreate()\n",
    ")\n",
    "\n",
    "# 3️⃣ Verify that Spark can reach your storage account\n",
    "dbutils.fs.ls(\"abfss://raw@ungcapstor01.dfs.core.windows.net/\")\n",
    "\n",
    "# 4️⃣ Run your extraction job\n",
    "job = ExtractSparkTMDB(spark, local_mode=False)\n",
    "job.container_uri = \"abfss://raw@ungcapstor01.dfs.core.windows.net/raw/tmdb/\"\n",
    "job.run()\n"
   ]
  },
  {
   "cell_type": "code",
   "execution_count": 0,
   "metadata": {
    "application/vnd.databricks.v1+cell": {
     "cellMetadata": {
      "byteLimit": 2048000,
      "rowLimit": 10000
     },
     "inputWidgets": {},
     "nuid": "64159931-4c2d-421f-9e5d-28777d29db6a",
     "showTitle": false,
     "tableResultSettingsMap": {},
     "title": ""
    }
   },
   "outputs": [],
   "source": [
    "import importlib\n",
    "importlib.reload(extract_spark_discogs)\n",
    "from scripts_spark.extract_spark_discogs import ExtractSparkDiscogs\n",
    "from pyspark.sql import SparkSession\n",
    "\n",
    "# 1️⃣ Cleanly retrieve and trim your ADLS key\n",
    "adls_key = dbutils.secrets.get(\"markscope\", \"azure-storage-account-key\").strip()\n",
    "\n",
    "# 2️⃣ Configure Spark with the CORRECT account name\n",
    "spark = (\n",
    "    SparkSession.builder.appName(\"ExtractSparkDiscogsNotebook\")\n",
    "    .config(\"fs.azure.account.key.ungcapstor01.dfs.core.windows.net\", adls_key)\n",
    "    .getOrCreate()\n",
    ")\n",
    "\n",
    "# 3️⃣ Verify that Spark can reach your storage account\n",
    "dbutils.fs.ls(\"abfss://raw@ungcapstor01.dfs.core.windows.net/\")\n",
    "\n",
    "# 4️⃣ Run your extraction job (update container path to Discogs)\n",
    "job = ExtractSparkDiscogs(spark, local_mode=False)\n",
    "job.container_uri = \"abfss://raw@ungcapstor01.dfs.core.windows.net/raw/discogs/\"\n",
    "job.run()\n"
   ]
  },
  {
   "cell_type": "code",
   "execution_count": 0,
   "metadata": {
    "application/vnd.databricks.v1+cell": {
     "cellMetadata": {
      "byteLimit": 2048000,
      "rowLimit": 10000
     },
     "collapsed": true,
     "inputWidgets": {},
     "nuid": "b1808bbb-b69e-47bd-be6d-510e2467f40d",
     "showTitle": false,
     "tableResultSettingsMap": {},
     "title": ""
    }
   },
   "outputs": [],
   "source": [
    "import requests\n",
    "params = {\n",
    "    \"q\": \"Inception soundtrack\",\n",
    "    \"type\": \"release\",\n",
    "    \"key\": \"woTphKEaoIPOYHLyYhlp\",\n",
    "    \"secret\": \"ODdqgEESNliJmkOHZtsEqxurdzcgNyRL\"\n",
    "}\n",
    "headers = {\"User-Agent\": \"DataEngineeringCapstone/1.0\"}\n",
    "print(requests.get(\"https://api.discogs.com/database/search\", params=params, headers=headers).status_code)\n"
   ]
  }
 ],
 "metadata": {
  "application/vnd.databricks.v1+notebook": {
   "computePreferences": null,
   "dashboards": [],
   "environmentMetadata": {
    "base_environment": "",
    "environment_version": "4"
   },
   "inputWidgetPreferences": null,
   "language": "python",
   "notebookMetadata": {
    "pythonIndentUnit": 4
   },
   "notebookName": "Pipeline_Runner",
   "widgets": {}
  },
  "language_info": {
   "name": "python"
  }
 },
 "nbformat": 4,
 "nbformat_minor": 0
}
